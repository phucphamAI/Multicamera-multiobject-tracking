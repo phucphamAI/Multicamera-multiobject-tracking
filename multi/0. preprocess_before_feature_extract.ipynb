{
 "cells": [
  {
   "cell_type": "code",
   "execution_count": 1,
   "metadata": {},
   "outputs": [],
   "source": [
    "import os\n",
    "from utils import is_valid_position, process_border\n",
    "\n",
    "\n",
    "def track_file_format_transfer_before_extract(src_root, dst_root):\n",
    "    \"\"\" Transfer file format of track results.\n",
    "    Single camera format (the direct output file of single camera algorithm) -> Multi camera format (the submission format)\n",
    "    All files must be named as \"c04x.txt\"\n",
    "\n",
    "    Args:\n",
    "        src_root:\n",
    "        dst_root:\n",
    "    \"\"\"\n",
    "    if not os.path.exists(dst_root):\n",
    "        os.makedirs(dst_root)\n",
    "\n",
    "    cam_list = os.listdir(src_root)\n",
    "    cam_list.sort()\n",
    "    for cam_file in cam_list:\n",
    "        print ('processing: {}'.format(cam_file))\n",
    "        dst_obj = open(os.path.join(dst_root, cam_file), 'w')\n",
    "        f_dict = {}\n",
    "        with open(os.path.join(src_root, cam_file), 'r') as fid:\n",
    "            for line in fid.readlines():\n",
    "                s = [int(float(x)) for x in line.rstrip().split(' ')] # [frame_id, track_id, x, y, w, h, ...]\n",
    "                x, y, w, h = s[2:6]\n",
    "                if not is_valid_position(x, y, w, h): # to drop those frames that are beyond of the image\n",
    "                    x, y, w, h = process_border(x, y, w, h)\n",
    "                    if w <= 0 or h <= 0:\n",
    "                        continue\n",
    "                    s[2:6] = x, y, w, h\n",
    "                fr_id = s[0]\n",
    "                line = '{} {} {} -1 -1 -1 -1 \\n'.format(s[0], s[1], ' '.join(map(str, s[2:6]))) # [camera_id, track_id, frame_id, x, y, w, h, -1, -1]\n",
    "                if fr_id not in f_dict:\n",
    "                    f_dict[fr_id] = []\n",
    "                f_dict[fr_id].append(line)\n",
    "\n",
    "            fr_ids = sorted(f_dict.keys())\n",
    "            for fr_id in fr_ids:\n",
    "                for line in f_dict[fr_id]:\n",
    "                    dst_obj.write(line)\n",
    "        dst_obj.close()"
   ]
  },
  {
   "cell_type": "code",
   "execution_count": 2,
   "metadata": {},
   "outputs": [
    {
     "name": "stdout",
     "output_type": "stream",
     "text": [
      "processing: c001.txt\n",
      "processing: c002.txt\n",
      "processing: c003.txt\n",
      "processing: c004.txt\n",
      "processing: c005.txt\n",
      "processing: c006.txt\n",
      "processing: c007.txt\n",
      "processing: c014.txt\n",
      "processing: c015.txt\n",
      "processing: c016.txt\n",
      "processing: c017.txt\n",
      "processing: c018.txt\n",
      "processing: c019.txt\n",
      "processing: c047.txt\n",
      "processing: c048.txt\n",
      "processing: c049.txt\n",
      "processing: c050.txt\n",
      "processing: c051.txt\n",
      "processing: c052.txt\n",
      "processing: c076.txt\n",
      "processing: c077.txt\n",
      "processing: c078.txt\n",
      "processing: c079.txt\n",
      "processing: c080.txt\n",
      "processing: c081.txt\n",
      "processing: c100.txt\n",
      "processing: c101.txt\n",
      "processing: c102.txt\n",
      "processing: c103.txt\n",
      "processing: c104.txt\n",
      "processing: c105.txt\n",
      "processing: c118.txt\n",
      "processing: c119.txt\n",
      "processing: c120.txt\n",
      "processing: c121.txt\n",
      "processing: c122.txt\n",
      "processing: c123.txt\n",
      "processing: c124.txt\n",
      "processing: c125.txt\n",
      "processing: c126.txt\n",
      "processing: c127.txt\n",
      "processing: c128.txt\n",
      "processing: c129.txt\n"
     ]
    }
   ],
   "source": [
    "track_file_format_transfer_before_extract('./data/track_results', './data/feature_before')"
   ]
  },
  {
   "cell_type": "code",
   "execution_count": null,
   "metadata": {},
   "outputs": [],
   "source": []
  }
 ],
 "metadata": {
  "kernelspec": {
   "display_name": "tuong_track1",
   "language": "python",
   "name": "python3"
  },
  "language_info": {
   "codemirror_mode": {
    "name": "ipython",
    "version": 3
   },
   "file_extension": ".py",
   "mimetype": "text/x-python",
   "name": "python",
   "nbconvert_exporter": "python",
   "pygments_lexer": "ipython3",
   "version": "3.8.16"
  },
  "orig_nbformat": 4,
  "vscode": {
   "interpreter": {
    "hash": "a87e7ed9e275eb1b3624a020f9769f4d12f1be4ee944db33a28d5aa3788cbe7a"
   }
  }
 },
 "nbformat": 4,
 "nbformat_minor": 2
}
